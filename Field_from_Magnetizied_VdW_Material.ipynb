{
  "cells": [
    {
      "cell_type": "markdown",
      "metadata": {
        "id": "view-in-github",
        "colab_type": "text"
      },
      "source": [
        "<a href=\"https://colab.research.google.com/github/pobrien5/JvR-Thesis/blob/main/Field_from_Magnetizied_VdW_Material.ipynb\" target=\"_parent\"><img src=\"https://colab.research.google.com/assets/colab-badge.svg\" alt=\"Open In Colab\"/></a>"
      ]
    },
    {
      "cell_type": "code",
      "execution_count": 1,
      "metadata": {
        "id": "W54R-IjBou1V"
      },
      "outputs": [],
      "source": [
        "import matplotlib.pyplot as plt\n",
        "import sympy\n",
        "import numpy as np\n",
        "import random\n",
        "import math\n",
        "from sympy import Symbol"
      ]
    },
    {
      "cell_type": "markdown",
      "source": [
        "Calculates the stray field outside a uniformly magnetized thin film with the amperian approach - Replacing the magnetization by an equivalent dirstribution of current density. "
      ],
      "metadata": {
        "id": "kDFrj79whU6l"
      }
    },
    {
      "cell_type": "code",
      "execution_count": 2,
      "metadata": {
        "id": "qa0ShCQ7o8zm"
      },
      "outputs": [],
      "source": [
        "#Constants and experimental parameters\n",
        "\n",
        "mu_0 = 1.26e-6 # [N/A**2]\n",
        "mag_vec = np.array([5e-2,0,0]) # [A/m]\n",
        "fluxon = 2e-15 # [Tm^2]\n",
        "\n",
        "constant = mu_0 / (4*np.pi)\n",
        "\n",
        "film_length = 5e-3 # [m] vec: x\n",
        "film_width = 5e-3 # [m] vec: y\n",
        "film_thickness = 1e-9 # [m] vec: z"
      ]
    },
    {
      "cell_type": "code",
      "execution_count": 3,
      "metadata": {
        "colab": {
          "base_uri": "https://localhost:8080/"
        },
        "id": "8L-Mt2lm5_ag",
        "outputId": "1ada5cb5-c993-407b-98bc-1bfc8d48b955"
      },
      "outputs": [
        {
          "output_type": "stream",
          "name": "stdout",
          "text": [
            "[[-0.0025, 0.0025], [-0.0025, 0.0025], [-5e-10, 5e-10]]\n"
          ]
        }
      ],
      "source": [
        "x_limits = [-film_length/2, film_length/2]\n",
        "y_limits = [-film_width/2, film_width/2]\n",
        "z_limits = [-film_thickness/2, film_thickness/2]\n",
        "\n",
        "limits = [x_limits, y_limits, z_limits]\n",
        "print(limits)"
      ]
    },
    {
      "cell_type": "code",
      "execution_count": 4,
      "metadata": {
        "id": "j603bVG6rDdp"
      },
      "outputs": [],
      "source": [
        "import numpy as np\n",
        "\n",
        "# Define the vertices of the cuboid\n",
        "vertices = np.array([\n",
        "    [-film_length/2, -film_width/2, -film_thickness/2],\n",
        "    [-film_length/2,  film_width/2, -film_thickness/2],\n",
        "    [ film_length/2,  film_width/2, -film_thickness/2],\n",
        "    [ film_length/2, -film_width/2, -film_thickness/2],\n",
        "    [-film_length/2, -film_width/2,  film_thickness/2],\n",
        "    [-film_length/2,  film_width/2,  film_thickness/2],\n",
        "    [ film_length/2,  film_width/2,  film_thickness/2],\n",
        "    [ film_length/2, -film_width/2,  film_thickness/2]\n",
        "])\n",
        "\n",
        "# Define the indices of the faces of the cuboid\n",
        "faces = np.array([\n",
        "    [0, 1, 2, 3],\n",
        "    [0, 1, 5, 4],\n",
        "    [1, 2, 6, 5],\n",
        "    [2, 3, 7, 6],\n",
        "    [3, 0, 4, 7],\n",
        "    [4, 5, 6, 7]\n",
        "])\n",
        "\n",
        "# Calculate the normal vectors of each face\n",
        "normals = []\n",
        "for face in faces:\n",
        "    # Get the vertices of the face\n",
        "    face_vertices = vertices[face, :]\n",
        "    #print('Surface Vertices Positions:')\n",
        "    #print(face_vertices)\n",
        "    #print('------------------------------')\n",
        "    \n",
        "    # Calculate the vectors between the vertices\n",
        "    vectors = face_vertices[1:, :] - face_vertices[0, :]\n",
        "    \n",
        "    # Calculate the normal vector\n",
        "    normal = np.cross(vectors[0], vectors[1])\n",
        "    \n",
        "    # Normalize the normal vector\n",
        "    normal = normal/np.linalg.norm(normal)\n",
        "    \n",
        "    # Check if the normal vector is pointing inwards\n",
        "    if np.dot(normal, face_vertices[0, :]) > 0:\n",
        "        normal *= -1\n",
        "    \n",
        "    # Add the normal vector to the list\n",
        "    normals.append(normal)\n",
        "\n",
        "# Print the normal vectors\n",
        "#for i, normal in enumerate(normals):\n",
        "    #print(f\"Normal vector of face {i}: {normal}\")"
      ]
    },
    {
      "cell_type": "code",
      "execution_count": 5,
      "metadata": {
        "id": "Er-svPRJvKwY"
      },
      "outputs": [],
      "source": [
        "import scipy.integrate as spi\n",
        "\n",
        "def double_integral(integrand, dP_limits, dQ_limits, common_side, dblint_pos_vec):\n",
        "  dblint_vec = [0, 0, 0]\n",
        "  tolerance = [1.49e-07, 1.49e-07, 1.49e-04]\n",
        "  for i in range(3):\n",
        "    result, _ = spi.dblquad(integrand,\n",
        "                          dP_limits[0], dP_limits[1],\n",
        "                            dQ_limits[0], dQ_limits[1],\n",
        "                             args=(i, common_side, dblint_pos_vec,),\n",
        "                              epsabs=tolerance[i], epsrel=tolerance[i])\n",
        "    dblint_vec[i] = result\n",
        "  return dblint_vec"
      ]
    },
    {
      "cell_type": "code",
      "execution_count": 6,
      "metadata": {
        "id": "dyctoVotaAkL"
      },
      "outputs": [],
      "source": [
        "def double_integral(integrand, dP_limits, dQ_limits, common_side, dblint_pos_vec):\n",
        "  dblint_vec = [0, 0, 0]\n",
        "  tolerance = [1.49e-07, 1.49e-07, 1.49e-07]\n",
        "  result, _ = spi.dblquad(integrand,\n",
        "                        dP_limits[0], dP_limits[1],\n",
        "                          dQ_limits[0], dQ_limits[1],\n",
        "                           args=(2, common_side, dblint_pos_vec,),\n",
        "                            epsabs=1.49e-02, epsrel=1.49e-02)\n",
        "  dblint_vec[0] = result\n",
        "  return dblint_vec"
      ]
    },
    {
      "cell_type": "code",
      "execution_count": 7,
      "metadata": {
        "id": "u0qpA3B587Fa"
      },
      "outputs": [],
      "source": [
        "# Find the common element and its index\n",
        "def common(face_array):\n",
        "  common_element, idx = next((val, idx) for idx, val in enumerate(face_array[0])\n",
        "                         if np.any(val == face_array[1]) and np.any(val == face_array[2]) and np.any(val == face_array[3]))\n",
        "  return common_element, idx"
      ]
    },
    {
      "cell_type": "code",
      "execution_count": 8,
      "metadata": {
        "id": "b66ZGrKUjFbl"
      },
      "outputs": [],
      "source": [
        "def surface_vec(common, dl_1, dl_2):\n",
        "  s_vec = [0, 0, 0]\n",
        "  s_vec[common[1]] = common[0]\n",
        "  dl_1_index = (1+common[1])%3\n",
        "  dl_2_index = (2+common[1])%3\n",
        "  if dl_1_index < dl_2_index: #Makes sure that dl_1 (X) and dl_2 (Y) always appear respectively in this order of integration\n",
        "    s_vec[dl_1_index] = dl_1\n",
        "    s_vec[dl_2_index] = dl_2\n",
        "  else:\n",
        "    s_vec[dl_1_index] = dl_2\n",
        "    s_vec[dl_2_index] = dl_1\n",
        "\n",
        "  return np.array(s_vec)"
      ]
    },
    {
      "cell_type": "code",
      "execution_count": 9,
      "metadata": {
        "id": "tmv6OmNQdO4I"
      },
      "outputs": [],
      "source": [
        "def surface_integrand(dP, dQ, a, common_side, si_pos_vec): #Might try to remove unneccasry arguments from this function\n",
        "  si_vec = np.array(surface_vec(common_side, dP, dQ))\n",
        "  return (np.add(si_pos_vec, -1*si_vec))[a]/(np.linalg.norm(si_pos_vec - si_vec)**3)"
      ]
    },
    {
      "cell_type": "code",
      "execution_count": 10,
      "metadata": {
        "colab": {
          "base_uri": "https://localhost:8080/"
        },
        "id": "SGZfQbX01h3S",
        "outputId": "79d014b9-f767-4a2a-9250-b02228e43722"
      },
      "outputs": [
        {
          "output_type": "stream",
          "name": "stdout",
          "text": [
            "r_vec: [2.e-04 0.e+00 1.e-07]\n",
            "------------------------------------------\n",
            "common: (-5e-10, 2)\n",
            "normal: [ 0.  0. -1.]\n",
            "current vector: [-0.    0.05  0.  ]\n",
            "surface vector: [dP dQ -5e-10]\n",
            "limits [0, 1]\n",
            "integral result: [6.282956574835667, 0, 0]\n",
            "cross result: [ 0.          0.         -0.31414783]\n",
            "------------------------------------------\n",
            "common: (0.0025, 1)\n",
            "normal: [-0.  1. -0.]\n",
            "current vector: [-0.    0.    0.05]\n",
            "surface vector: [dP 0.0025 dQ]\n",
            "limits [0, 2]\n",
            "integral result: [1.1259619111070066e-11, 0, 0]\n",
            "cross result: [ 0.00000000e+00  5.62980956e-13 -0.00000000e+00]\n",
            "------------------------------------------\n",
            "common: (-0.0025, 1)\n",
            "normal: [-0. -1. -0.]\n",
            "current vector: [ 0.    0.   -0.05]\n",
            "surface vector: [dP -0.0025 dQ]\n",
            "limits [0, 2]\n",
            "integral result: [1.1259619111070066e-11, 0, 0]\n",
            "cross result: [ 0.00000000e+00 -5.62980956e-13  0.00000000e+00]\n",
            "------------------------------------------\n",
            "common: (5e-10, 2)\n",
            "normal: [-0. -0.  1.]\n",
            "current vector: [ 0.   -0.05  0.  ]\n",
            "surface vector: [dP dQ 5e-10]\n",
            "limits [0, 1]\n",
            "integral result: [6.282958848866182, 0, 0]\n",
            "cross result: [-0.          0.          0.31414794]\n",
            "------------------------------------------\n",
            "result vec: [0.00000000e+00 0.00000000e+00 1.13701526e-07]\n"
          ]
        }
      ],
      "source": [
        "r_vec =np.array([0.2e-3,0,100e-9])\n",
        "result_vec = np.array([0,0,0])\n",
        "\n",
        "print('r_vec:', r_vec)\n",
        "print('------------------------------------------')\n",
        "\n",
        "for face in faces:\n",
        "    # Get the vertices of the face\n",
        "    #print(face)\n",
        "    face_vertices = vertices[face, :]\n",
        "    \n",
        "    # Calculate the vectors between the vertices\n",
        "    vectors = face_vertices[1:, :] - face_vertices[0, :]\n",
        "    \n",
        "    # Calculate the normal vector\n",
        "    normal = np.cross(vectors[0], vectors[1])\n",
        "    \n",
        "    # Normalize the normal vector\n",
        "    normal = normal/np.linalg.norm(normal)\n",
        "    \n",
        "    # Check if the normal vector is pointing outwards\n",
        "    if np.dot(normal, face_vertices[0, :]) < 0:\n",
        "        normal *= -1\n",
        "    \n",
        "\n",
        "    current_vec = np.cross(mag_vec, normal)\n",
        "    if np.linalg.norm(current_vec) > 0:\n",
        "      print('common:', common(face_vertices)) #Returns the common x,y,z position (and its index) between all four vertices i.e. The side we are surface integrating over\n",
        "      print('normal:', normal) \n",
        "      print('current vector:', current_vec)\n",
        "      print('surface vector:', surface_vec(common(face_vertices),Symbol('dP'),Symbol('dQ')))\n",
        "      common_temp = common(face_vertices)\n",
        "      indices_ = (2+common_temp[1])%3, (1+common_temp[1])%3\n",
        "      indices_ = sorted(indices_)\n",
        "      print('limits', indices_)\n",
        "      result = double_integral(surface_integrand, limits[indices_[0]], limits[indices_[1]], common_temp, r_vec) \n",
        "      #print('1st limits:', limits[indices_[0]])\n",
        "      #print('2nd limits:', limits[indices_[1]])\n",
        "      print('integral result:', result)\n",
        "      result = np.cross(current_vec, result)\n",
        "      print('cross result:', result)\n",
        "      #print('surface integrand', surface_integrand(1,1))\n",
        "      #result = double_integral(surface_integrand, x_limits, y_limits)\n",
        "      print('------------------------------------------')\n",
        "      result_vec = np.add(result_vec, result)\n",
        "    \n",
        "print('result vec:', result_vec)\n",
        "      \n",
        "\n",
        "      #double_integral()\n",
        "      #np.cross(current_dir, )\n",
        "    \n",
        "    # Add the normal vector to the list\n"
      ]
    },
    {
      "cell_type": "code",
      "execution_count": 11,
      "metadata": {
        "id": "8TgbQB5jN3w2"
      },
      "outputs": [],
      "source": [
        "#result vec: [-5.74739175e-08  0.00000000e+00  4.59245489e-13]"
      ]
    },
    {
      "cell_type": "code",
      "execution_count": 12,
      "metadata": {
        "id": "xdktM0DXLkGW"
      },
      "outputs": [],
      "source": [
        "def B2(position_vec):\n",
        "  result_vec = np.array([0,0,0])\n",
        "\n",
        "  for face in faces:\n",
        "      face_vertices = vertices[face, :]\n",
        "      vectors = face_vertices[1:, :] - face_vertices[0, :]\n",
        "      normal = np.cross(vectors[0], vectors[1])\n",
        "      normal = normal/np.linalg.norm(normal)\n",
        "      if np.dot(normal, face_vertices[0, :]) < 0:\n",
        "          normal *= -1\n",
        "      \n",
        "      current_vec = np.cross(mag_vec, normal)\n",
        "      if np.linalg.norm(current_vec) > 0:\n",
        "        common_temp = common(face_vertices)\n",
        "        if common_temp[1] == 1:\n",
        "          indices_ = (2+common_temp[1])%3, (1+common_temp[1])%3\n",
        "          indices_ = sorted(indices_)\n",
        "          #print('limits', indices_)\n",
        "          result = double_integral(surface_integrand, limits[indices_[0]], limits[indices_[1]], common_temp, position_vec)\n",
        "          #print('integral result:', result)\n",
        "          result = np.cross(current_vec, result)\n",
        "          #print('cross result:', result)\n",
        "          #print('---------------------------')\n",
        "          result_vec = np.add(result_vec, result)\n",
        "          return 2*result_vec\n",
        "        \n",
        "      \n"
      ]
    },
    {
      "cell_type": "code",
      "execution_count": 13,
      "metadata": {
        "id": "vw5f0wVhASqC"
      },
      "outputs": [],
      "source": [
        "def B_field(position_vec):\n",
        "  result_vec = np.array([0,0,0])\n",
        "\n",
        "  for face in faces:\n",
        "      # Get the vertices of the face\n",
        "      #print(face)\n",
        "      face_vertices = vertices[face, :]\n",
        "      \n",
        "      # Calculate the vectors between the vertices\n",
        "      vectors = face_vertices[1:, :] - face_vertices[0, :]\n",
        "      \n",
        "      # Calculate the normal vector\n",
        "      normal = np.cross(vectors[0], vectors[1])\n",
        "      \n",
        "      # Normalize the normal vector\n",
        "      normal = normal/np.linalg.norm(normal)\n",
        "      \n",
        "      # Check if the normal vector is pointing outwards\n",
        "      if np.dot(normal, face_vertices[0, :]) < 0:\n",
        "          normal *= -1\n",
        "      \n",
        "      current_vec = np.cross(mag_vec, normal)\n",
        "      if np.linalg.norm(current_vec) > 0:\n",
        "        #print('common:', common(face_vertices)) #Returns the common x,y,z position (and its index) between all four vertices i.e. The side we are surface integrating over\n",
        "        #print('normal:', normal) \n",
        "        #print('current vector:', current_vec)\n",
        "        #print('surface vector:', surface_vec(common(face_vertices),Symbol('dP'),Symbol('dQ')))\n",
        "        common_temp = common(face_vertices)\n",
        "        indices_ = (2+common_temp[1])%3, (1+common_temp[1])%3\n",
        "        indices_ = sorted(indices_)\n",
        "        #print('limits', indices_)\n",
        "        result = double_integral(surface_integrand, limits[indices_[0]], limits[indices_[1]], common_temp, position_vec)\n",
        "        #print('integral result:', result)\n",
        "        result = np.cross(current_vec, result)\n",
        "        #print('cross result:', result)\n",
        "        #print('---------------------------')\n",
        "        result_vec = np.add(result_vec, result)\n",
        "        \n",
        "      \n",
        "  return result_vec"
      ]
    },
    {
      "cell_type": "code",
      "execution_count": 14,
      "metadata": {
        "colab": {
          "base_uri": "https://localhost:8080/"
        },
        "id": "pwHuHzke7BFy",
        "outputId": "aa809dc2-4602-4cb3-9b65-730691797e57"
      },
      "outputs": [
        {
          "output_type": "stream",
          "name": "stdout",
          "text": [
            "r_vec: [2.e-04 0.e+00 1.e-07]\n",
            "---------------------------\n",
            "[0.00000000e+00 0.00000000e+00 1.13701526e-07]\n",
            "[0.00000000e+00 1.12596191e-12 0.00000000e+00]\n"
          ]
        }
      ],
      "source": [
        "r_vec = np.array([0.2e-3,0,100e-9])\n",
        "\n",
        "print('r_vec:', r_vec)\n",
        "print('---------------------------')\n",
        "\n",
        "print(B_field(r_vec))\n",
        "\n",
        "print(B2(r_vec))"
      ]
    },
    {
      "cell_type": "code",
      "execution_count": null,
      "metadata": {
        "colab": {
          "background_save": true,
          "base_uri": "https://localhost:8080/"
        },
        "id": "EO6v-EotASnS",
        "outputId": "5184a8cb-6122-48bd-ea33-471db98d0f07"
      },
      "outputs": [
        {
          "output_type": "stream",
          "name": "stderr",
          "text": [
            "/usr/local/lib/python3.10/dist-packages/scipy/integrate/_quadpack_py.py:1225: IntegrationWarning: The integral is probably divergent, or slowly convergent.\n",
            "  quad_r = quad(f, low, high, args=args, full_output=self.full_output,\n",
            "/usr/local/lib/python3.10/dist-packages/scipy/integrate/_quadpack_py.py:1225: IntegrationWarning: The algorithm does not converge.  Roundoff error is detected\n",
            "  in the extrapolation table.  It is assumed that the requested tolerance\n",
            "  cannot be achieved, and that the returned result (if full_output = 1) is \n",
            "  the best which can be obtained.\n",
            "  quad_r = quad(f, low, high, args=args, full_output=self.full_output,\n",
            "/usr/local/lib/python3.10/dist-packages/scipy/integrate/_quadpack_py.py:1225: IntegrationWarning: The maximum number of subdivisions (50) has been achieved.\n",
            "  If increasing the limit yields no improvement it is advised to analyze \n",
            "  the integrand in order to determine the difficulties.  If the position of a \n",
            "  local difficulty can be determined (singularity, discontinuity) one will \n",
            "  probably gain from splitting up the interval and calling the integrator \n",
            "  on the subranges.  Perhaps a special-purpose integrator should be used.\n",
            "  quad_r = quad(f, low, high, args=args, full_output=self.full_output,\n"
          ]
        }
      ],
      "source": [
        "x_number = int(1e2) # no. of points on graph\n",
        "x_range = np.linspace(limits[0][0], limits[0][1], num=x_number) # m\n",
        "\n",
        "B_values = np.zeros((x_number,3))\n",
        "\n",
        "for i in range(x_number):\n",
        "  r_vec = np.array([x_range[i], 0, 100e-9])\n",
        "  B_values[i] = B_field(r_vec)\n",
        "\n",
        "#plt.plot(x_range, y_prefactor*BX_values,'b')"
      ]
    },
    {
      "cell_type": "code",
      "execution_count": null,
      "metadata": {
        "colab": {
          "base_uri": "https://localhost:8080/",
          "height": 471
        },
        "id": "hYdMbyTZ7fMP",
        "outputId": "7f27b4e6-7a39-4cd0-dfe3-4ff84f433a59"
      },
      "outputs": [
        {
          "data": {
            "text/plain": [
              "[<matplotlib.lines.Line2D at 0x7f4f773803d0>]"
            ]
          },
          "execution_count": 282,
          "metadata": {},
          "output_type": "execute_result"
        },
        {
          "data": {
            "image/png": "[encoded data removed]",
            "text/plain": [
              "<Figure size 640x480 with 1 Axes>"
            ]
          },
          "metadata": {},
          "output_type": "display_data"
        }
      ],
      "source": [
        "# r = [x_range, 0, 100e-9]\n",
        "direction = [Symbol('x'), Symbol('y'), Symbol('z')]\n",
        "\n",
        "plt.title('$B_{}$ at $r=({}, {}, {})$ m'.format(direction[0], direction[0], r_vec[1], r_vec[2]))\n",
        "plt.plot(1000*x_range, B_values[:,0], 'b')"
      ]
    },
    {
      "cell_type": "code",
      "execution_count": null,
      "metadata": {
        "colab": {
          "base_uri": "https://localhost:8080/",
          "height": 447
        },
        "id": "a5AvNJhr4dLT",
        "outputId": "4e2a200c-9917-4caa-98e2-1e873e1f7dce"
      },
      "outputs": [
        {
          "name": "stdout",
          "output_type": "stream",
          "text": [
            "1.5697963696517355e-14\n"
          ]
        },
        {
          "data": {
            "image/png": "[encoded data removed]",
            "text/plain": [
              "<Figure size 640x480 with 1 Axes>"
            ]
          },
          "metadata": {},
          "output_type": "display_data"
        }
      ],
      "source": [
        "plt.plot(1000*x_range, 1e12*constant*B_values[:,2], 'g')\n",
        "print(max(constant*B_values[:,2]))"
      ]
    },
    {
      "cell_type": "code",
      "execution_count": null,
      "metadata": {
        "id": "fWb8bZdUKlC8"
      },
      "outputs": [],
      "source": [
        "print(np.max(B_values[:,0])*constant)"
      ]
    },
    {
      "cell_type": "code",
      "execution_count": null,
      "metadata": {
        "colab": {
          "base_uri": "https://localhost:8080/",
          "height": 482
        },
        "id": "t8Bx3O1wAPr6",
        "outputId": "cd3fb40f-fdfa-4599-8c27-71f770dc4d18"
      },
      "outputs": [
        {
          "data": {
            "text/plain": [
              "<matplotlib.legend.Legend at 0x7f0f76da3b20>"
            ]
          },
          "execution_count": 63,
          "metadata": {},
          "output_type": "execute_result"
        },
        {
          "data": {
            "image/png": "[encoded data removed]",
            "text/plain": [
              "<Figure size 640x480 with 1 Axes>"
            ]
          },
          "metadata": {},
          "output_type": "display_data"
        }
      ],
      "source": [
        "plt.plot(1000*x_range, B_values[:,0], 'b', label='$B_x$')\n",
        "plt.plot(1000*x_range, B_values[:,1], 'r', label='$B_y$')\n",
        "plt.plot(1000*x_range, B_values[:,2], 'g', label='$B_z$')\n",
        "plt.xlabel(\"x [mm]\")\n",
        "plt.ylabel(\"B field (T)\")\n",
        "plt.legend()"
      ]
    },
    {
      "cell_type": "code",
      "execution_count": null,
      "metadata": {
        "colab": {
          "base_uri": "https://localhost:8080/",
          "height": 482
        },
        "id": "Q6hzzbVmyrZC",
        "outputId": "ae812e04-27c4-492a-fa48-41591be80d38"
      },
      "outputs": [
        {
          "data": {
            "text/plain": [
              "<matplotlib.legend.Legend at 0x7fa7884e7c70>"
            ]
          },
          "execution_count": 163,
          "metadata": {},
          "output_type": "execute_result"
        },
        {
          "data": {
            "image/png": "[encoded data removed]",
            "text/plain": [
              "<Figure size 640x480 with 1 Axes>"
            ]
          },
          "metadata": {},
          "output_type": "display_data"
        }
      ],
      "source": [
        "plt.plot(1000*x_range, 1e6*B_values[:,0]*constant, 'b', label='$B_x$')\n",
        "plt.plot(1000*x_range, 1e6*B_values[:,1]*constant, 'r', label='$B_y$')\n",
        "plt.plot(1000*x_range, 1e6*B_values[:,2]*constant, 'g', label='$B_z$')\n",
        "plt.xlabel(\"x [mm]\")\n",
        "plt.ylabel(\"B field (uT)\")\n",
        "plt.legend()"
      ]
    }
  ],
  "metadata": {
    "colab": {
      "provenance": [],
      "authorship_tag": "ABX9TyMRLPQKR4J6A0VYJ3wRUY9R",
      "include_colab_link": true
    },
    "kernelspec": {
      "display_name": "Python 3",
      "name": "python3"
    },
    "language_info": {
      "name": "python"
    }
  },
  "nbformat": 4,
  "nbformat_minor": 0
}